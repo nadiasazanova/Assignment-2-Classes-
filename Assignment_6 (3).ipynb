{
 "cells": [
  {
   "cell_type": "markdown",
   "metadata": {},
   "source": [
    "<img src=\"https://communications.univie.ac.at/fileadmin/_processed_/csm_Uni_Logo_2016_2f47aacf37.jpg\" \n",
    "     alt=\"Logo Universität Wien\" \n",
    "     width=\"200\"/>\n",
    "\n",
    "# Practical Machine Learning for Natural Language Processing - 2023 SS  \n",
    "\n",
    "### Assigment 2 - Generators and Classes   \n",
    "\n",
    "In this assigment we are going to play with generators and instances/classes - structures that retain state.  "
   ]
  },
  {
   "cell_type": "markdown",
   "metadata": {},
   "source": [
    "***"
   ]
  },
  {
   "cell_type": "markdown",
   "metadata": {},
   "source": [
    "### 1. Alea Iacta Est  \n",
    "\n",
    "(a) Using [generator functions](https://github.com/rsouza/Python_Course/blob/master/Notebooks/Python_Basic/03_Functions.ipynb), create an object that emulates an eight-sided dice (1-8) that is biased, such that the probability of this generator function returning a certain value is proportional to the value itself (i.e. the face \"6\" is 3 times more likely to come out than face \"2\");  \n",
    "\n",
    " <img src=\"https://cdn11.bigcommerce.com/s-70184/images/stencil/608x608/products/532/7428/d8-dice-blue__64321.1664335674.jpg\" alt=\"8-Dice\" style=\"width:250px;height:300px;\"> \n",
    "\n",
    "(b) Using [Matplotlib](https://matplotlib.org/) plt.plot or plt.hist commands, show graphically the result of 10000 casts of the die;  \n",
    "\n",
    "(c) Modify this generator function so that it terminates automatically when all possible values (1,2,3,4,5,6,7,8) have been cast at least once. In this case, it will return the total absolute time that has elapsed since the first iteration.  (hint: a function can have both **return** and **yield** commands)  "
   ]
  },
  {
   "cell_type": "code",
   "execution_count": 1,
   "metadata": {},
   "outputs": [
    {
     "name": "stdout",
     "output_type": "stream",
     "text": [
      "8\n",
      "6\n",
      "5\n",
      "8\n",
      "4\n",
      "6\n",
      "8\n",
      "7\n",
      "6\n",
      "3\n"
     ]
    }
   ],
   "source": [
    "# a)\n",
    "import random\n",
    "\n",
    "def dice():\n",
    "    sides = [1, 2, 3, 4, 5, 6, 7, 8]\n",
    "    probabilities = [1, 2, 3, 4, 5, 6, 7, 8]\n",
    "    while True: #an infinite loop. We don`t know how many rolls it would take to achieve the desired condition\n",
    "        throw = random.choices(sides, probabilities)[0]\n",
    "        yield throw\n",
    "        \n",
    "dice_throw = dice()\n",
    "for i in range(10): # we throw the dice 10 times\n",
    "    print(next(dice_throw)) # we throw the dice again and again, until the loop iterates 10 time     \n",
    "      "
   ]
  },
  {
   "cell_type": "code",
   "execution_count": 18,
   "metadata": {},
   "outputs": [
    {
     "data": {
      "image/png": "[encoded data removed]",
      "text/plain": [
       "<Figure size 432x288 with 1 Axes>"
      ]
     },
     "metadata": {
      "needs_background": "light"
     },
     "output_type": "display_data"
    }
   ],
   "source": [
    "# b)\n",
    "import random\n",
    "import matplotlib.pyplot as plt\n",
    "\n",
    "def dice():\n",
    "    sides = [1, 2, 3, 4, 5, 6, 7, 8]\n",
    "    probabilities = [1, 2, 3, 4, 5, 6, 7, 8]\n",
    "    while True: #an infinite loop\n",
    "        throw = random.choices(sides, probabilities)[0]\n",
    "        yield throw\n",
    "        \n",
    "dice_throw = dice()\n",
    "throws_list = [] #we create a list to keep all the dice throws together,in order to visualize the distribution of dice throws\n",
    "# The thwrows can be only visualized when they are gathered together\n",
    "\n",
    "for i in range(1000): # we throw the dice 10 times\n",
    "    result_of_throw = next(dice_throw)\n",
    "    #print(result_of_throw) # we throw the dice again and again, until the loop iterates 10 times\n",
    "    throws_list.append(result_of_throw)\n",
    "\n",
    "plt.hist(throws_list,bins=8) #we divide the histogram into 8 equal bins\n",
    "plt.title('1000 throws of the dice - a histogram')\n",
    "plt.xlabel('Result of throw') #represents possible outcomes of the dice throw\n",
    "plt.ylabel('Frequency of sides')# we see how many times each side of the dice is shown\n",
    "plt.show()\n"
   ]
  },
  {
   "cell_type": "code",
   "execution_count": 16,
   "metadata": {},
   "outputs": [
    {
     "name": "stdout",
     "output_type": "stream",
     "text": [
      "7\n",
      "8\n",
      "3\n",
      "5\n",
      "2\n",
      "8\n",
      "6\n",
      "4\n",
      "1\n"
     ]
    },
    {
     "ename": "StopIteration",
     "evalue": "0.0",
     "output_type": "error",
     "traceback": [
      "\u001b[1;31m---------------------------------------------------------------------------\u001b[0m",
      "\u001b[1;31mStopIteration\u001b[0m                             Traceback (most recent call last)",
      "Input \u001b[1;32mIn [16]\u001b[0m, in \u001b[0;36m<cell line: 20>\u001b[1;34m()\u001b[0m\n\u001b[0;32m     19\u001b[0m dice_throw \u001b[38;5;241m=\u001b[39m dice()\n\u001b[0;32m     20\u001b[0m \u001b[38;5;28;01mfor\u001b[39;00m i \u001b[38;5;129;01min\u001b[39;00m \u001b[38;5;28mrange\u001b[39m(\u001b[38;5;241m10\u001b[39m):\n\u001b[1;32m---> 21\u001b[0m     \u001b[38;5;28mprint\u001b[39m(\u001b[38;5;28;43mnext\u001b[39;49m\u001b[43m(\u001b[49m\u001b[43mdice_throw\u001b[49m\u001b[43m)\u001b[49m)\n\u001b[0;32m     23\u001b[0m endtime \u001b[38;5;241m=\u001b[39m time\u001b[38;5;241m.\u001b[39mtime()\n\u001b[0;32m     24\u001b[0m starttime \u001b[38;5;241m=\u001b[39mtime\u001b[38;5;241m.\u001b[39mtime()\n",
      "\u001b[1;31mStopIteration\u001b[0m: 0.0"
     ]
    }
   ],
   "source": [
    "# c)\n",
    "import random\n",
    "import time\n",
    "\n",
    "def dice():\n",
    "    sides = [1, 2, 3, 4, 5, 6, 7, 8]\n",
    "    thrown_values = set()#we create this set outside of the loop, so it is empty at the start of each iteraton \n",
    "    starttime = time.time() # time.time() shows the curent time before rolling the dice. We only want to capture the start time it takes to roll the dice at least once for each side, that is why we put this line outside of the loop\n",
    "    while True: #an infinite loop that will go on rolling the dice until wanted condition is true\n",
    "        throw = random.choice(sides)\n",
    "        thrown_values.add(throw)#each time the dice is thrown, the set is updated (a new twrow is added to the set)\n",
    "        yield throw # we want to get a result of every throw as it occurs. \"yield throw\" gives us every throw value as it is generated \n",
    "        if len(thrown_values) == len(sides):\n",
    "            endtime = time.time()# time.time() shows the curent time sftering the dice\n",
    "            return endtime - starttime\n",
    "\n",
    "        \n",
    "        \n",
    "dice_throw = dice()\n",
    "for i in range(10):\n",
    "    print(next(dice_throw))\n",
    "\n",
    "endtime = time.time()\n",
    "starttime =time.time()\n",
    "print(endtime-starttime) #here I always get an error and I do not get the time printed...\n",
    "\n",
    "        \n"
   ]
  },
  {
   "cell_type": "markdown",
   "metadata": {},
   "source": [
    "### 2. A ticket to the first Class    \n",
    "\n",
    "+ Create a Class called \"Elevator\". Each instance of this class receives as parameters the number of floors in the building and starts the elevator on the lowest floor.  \n",
    "+ This Class should have methods and properties to allow the elevator to:\n",
    "<br></br>\n",
    "    + Receive a call - user(s) press a button to go to specific floor(s);  \n",
    "    + Receive a floor as a destination - when users enter the elevator, each one may press a button to choose destination floor;  \n",
    "    + Store and inform which floor the elevator is at each moment(consider that trips for consecutive floors takes 5 seconds, and stopping takes 10 seconds);  \n",
    "    + Store and inform which users are in the elevator;  \n",
    "    + Store and inform the sequence of floors yet to be visited;  \n",
    "    + Store the number of times the elevator stopped in each floor (passing through the floor without \"stopping\" on the floor does not count);  \n",
    "    + Refuses commands to go to inexistent floors.  \n",
    "<br></br>\n",
    "+ Simulate the behavior of the elevator serving ten users, each one calling from a random floor, and chosing a random destination floor.   \n",
    "+ Graphically illustrate the current elevator position for the requested simulation.   \n",
    "+ (BONUS) Create a smart building simulator, controlling calls made to n > 1 elevators and routing elevator properly.  "
   ]
  },
  {
   "cell_type": "code",
   "execution_count": 17,
   "metadata": {},
   "outputs": [
    {
     "name": "stdout",
     "output_type": "stream",
     "text": [
      "Your destination is the 5 floor\n",
      "You are now on the 1 floor\n",
      "You arrived at the 5floor\n"
     ]
    },
    {
     "data": {
      "image/png": "[encoded data removed]",
      "text/plain": [
       "<Figure size 432x288 with 1 Axes>"
      ]
     },
     "metadata": {
      "needs_background": "light"
     },
     "output_type": "display_data"
    }
   ],
   "source": [
    "import time\n",
    "import random\n",
    "import matplotlib.pyplot as plt\n",
    "\n",
    "class Elevator:\n",
    "    \n",
    "    def __init__(self, number_of_floors):        \n",
    "        self.number_of_floors = number_of_floors\n",
    "        self.floors = [] # possibe floors where we can go with the elevator and which we can call\n",
    "        self.current_floor = 1\n",
    "        self.stops = {} # dictionary for storing the number of times the elevator stopped at each floor\n",
    "\n",
    "        \n",
    "\n",
    "\n",
    "    def recieve_call(self, call):\n",
    "        if call not in self.floors:\n",
    "            self.floors.append(call)\n",
    "            print(f\"You chose to go to the {call} floor\") \n",
    "        return f\"You chose to go to the {call} floor\" # but here I am not sure if I should move the return statement to the left or store it exactly undr the print statement...\n",
    "\n",
    "            \n",
    "    def select_destination(self, destination):\n",
    "        if destination not in self.floors:\n",
    "            self.floors.append(destination)\n",
    "            print(f\"Your destination is the {destination} floor\")\n",
    "        return \"Your destination is the {destination} floor\"\n",
    "   \n",
    "       \n",
    "    def inform_location(self,location):\n",
    "        start_time = time.time()\n",
    "        trip_next_floor = 5 # 5 seconds\n",
    "        stopping = 10 # 10 seconds\n",
    "        for floor in self.floors:\n",
    "            if floor > self.current_floor:                \n",
    "                time_to_next_floor = trip_next_floor * (floor - self.current_floor)\n",
    "            else:                \n",
    "                time_to_next_floor = trip_next_floor * (self.current_floor - floor)\n",
    "                \n",
    "            time.sleep(stopping)\n",
    "            print(f\"You are now on the {self.current_floor} floor\")\n",
    "            time.sleep(stopping)\n",
    "            \n",
    "            self.current_floor = floor #we need to update the curent floor\n",
    "            \n",
    "        print(f\"You arrived at the {self.current_floor}floor\")\n",
    "        return f\"You arrived at the {self.current_floor}floor\"\n",
    "\n",
    "        \n",
    "    def check_users(self,*users):# the * operator allow us to have any number of arguments, so we can have 1 or more users in the eleavator at once\n",
    "        self.users = []\n",
    "        for user in users:\n",
    "            if user not in self.users:\n",
    "                 self.users.append(user)                         \n",
    "                 print(f\"These users are in the elevator: {user}\")\n",
    "            return f\"These users are in the elevator: {user}\"    \n",
    "                \n",
    "    def floors_to_be_visited(self, *floors):\n",
    "        self.current_floor = 0\n",
    "        desired_floors = []\n",
    "        for floor in floors:\n",
    "            desired_floor = self.current_floor + floor\n",
    "            desired_floors.append(desired_floor)\n",
    "        print(f\"The number of the floors yet to be visited is {desired_floors}\")\n",
    "        for floor in desired_floors:\n",
    "            floors_to_pass = self.current_floor - floor\n",
    "            print(f\"You need to pass {floors_to_pass} floors to reach the {floor} floor.\")\n",
    "            self.current_floor = floor\n",
    "        remaining_floors = []\n",
    "        for floor in range(self.current_floor, self.number_of_floors + 1):\n",
    "            remaining_floors.append(floor)\n",
    "        print(f\"The remaining floors to be visited are {remaining_floors}.\") \n",
    "        return f\"The remaining floors to be visited are {remaining_floors}.\"\n",
    "    \n",
    "    def count_stops(self):\n",
    "        stops_info = \"\"\n",
    "        for floor, stops_on_floor in self.stops.items():\n",
    "            stops_on_floor += 1 # we add 1 to the number of stops on each floor\n",
    "            self.stops[floor] = stops_on_floor # we update the value associated with the floor key in the stops dictionary to the new stops_on_floor value\n",
    "            #At the same time keys in the dictionary remain unchanged \n",
    "            stops_info += f\"The elevator stopped {self.stops[floor]} time on floor the {floor}\"\n",
    "            print(f\"The elevator stopped {self.stops[floor]} time on the floor {floor}\")\n",
    "        return stops_info # but here I always get an empty line as a result\n",
    "    \n",
    "    def refuse_commands(self,floor):\n",
    "        if floor > len(self.floors):\n",
    "            print (\"There is no such floor in the building.\")          \n",
    "\n",
    "\n",
    "    \n",
    "    def elevator_behaviour(self):\n",
    "        users = [] #users is a list of tuples, where each tuple represents a user with a starting floor and a destination floor\n",
    "        #So \"users\" may look like this [(3,4), (5,9)] and it would mean that the first user starts at floor 3 and wants to go to floor 4, and the second user starts at floor 5 and wants to go to floor 9\n",
    "        for i in range(1, 11):\n",
    "            start_floor = random.randint(1, self.number_of_floors) #we get a random integer between 1 and \"self.number_of_floors\" (number of floors in the building)\n",
    "            destination_floor = random.randint(1, self.number_of_floors)\n",
    "            users.append((start_floor, destination_floor))\n",
    "        \n",
    "        for start_floor, destination_floor in users: #we want to unpack the list \"users\"\n",
    "            #for each tuple in the users list, we want to extract the first element and assign it to start_floor. And we want to assign the second element to destination_floor\n",
    "            self.recieve_call(start_floor)# this is the first step in simulating the behavior of the elevator\n",
    "            self.select_destination(destination_floor)\n",
    "            self.inform_location(self.current_floor)\n",
    "            self.count_stops()\n",
    "            #we can use a different argument for the already existing methods within our Class\n",
    "        \n",
    "        return\n",
    "        \n",
    "    def graphical_illustration(self):\n",
    "        x = ['Floor'] # x is a list which contains only one element - the string 'Floor'\n",
    "        y = [self.current_floor]\n",
    "        plt.xlabel('Location')\n",
    "        plt.ylabel('Current Floor')\n",
    "        plt.title('Location of the Elevator')\n",
    "    \n",
    "        plt.show()            \n",
    "\n",
    "            \n",
    "\n",
    "                \n",
    "            \n",
    "           \n",
    "#e = Elevator(6) # we create a new instance of the Elevator class with 6 floors\n",
    "#print(e.number_of_floors) #printing the number of floors of the elevator\n",
    "#e.recieve_call('3') # we make a call to the elevator to go to the 3rd floor\n",
    "\n",
    "#e1 = Elevator(10)\n",
    "#e1.select_destination(\"5\")\n",
    "\n",
    "#e2 = Elevator(15) #checking inform_location method\n",
    "#e2.recieve_call(5)\n",
    "#e2.select_destination(10)\n",
    "#e2.inform_location(5)\n",
    "\n",
    "\n",
    "#e3 = Elevator(12)\n",
    "#e3.check_users(\"Mary\", \"John\")\n",
    "\n",
    "#e4 = Elevator(8)\n",
    "#e4.floors_to_be_visited(3)       \n",
    "\n",
    "\n",
    "#e5 = Elevator(10)\n",
    "#e5.inform_location(8) \n",
    "#e5.count_stops()\n",
    "\n",
    "#e6 = Elevator(10)\n",
    "#e6.refuse_commands(12)\n",
    "\n",
    "#e7 = Elevator(10)\n",
    "#result = e7.elevator_behaviour()\n",
    "#print(result)\n",
    "\n",
    "\n",
    "e8 = Elevator(10)\n",
    "e8.select_destination(5)\n",
    "e8.inform_location(3)\n",
    "e8.graphical_illustration()\n",
    "\n",
    "\n",
    "\n",
    "\n",
    "                  \n",
    "\n",
    "        \n",
    "\n",
    "\n",
    "            "
   ]
  },
  {
   "cell_type": "code",
   "execution_count": null,
   "metadata": {},
   "outputs": [],
   "source": []
  },
  {
   "cell_type": "code",
   "execution_count": null,
   "metadata": {},
   "outputs": [],
   "source": []
  }
 ],
 "metadata": {
  "kernelspec": {
   "display_name": "Python 3 (ipykernel)",
   "language": "python",
   "name": "python3"
  },
  "language_info": {
   "codemirror_mode": {
    "name": "ipython",
    "version": 3
   },
   "file_extension": ".py",
   "mimetype": "text/x-python",
   "name": "python",
   "nbconvert_exporter": "python",
   "pygments_lexer": "ipython3",
   "version": "3.9.12"
  }
 },
 "nbformat": 4,
 "nbformat_minor": 4
}
